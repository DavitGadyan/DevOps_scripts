{
 "cells": [
  {
   "cell_type": "code",
   "execution_count": 1,
   "metadata": {},
   "outputs": [],
   "source": [
    "import pandas as pd\n",
    "import numpy as np\n",
    "import psutil, os\n",
    "from dask import delayed\n",
    "import matplotlib.pyplot as plt"
   ]
  },
  {
   "cell_type": "code",
   "execution_count": 2,
   "metadata": {},
   "outputs": [],
   "source": [
    "df = pd.read_csv('960906061_T_ONTIME_REPORTING.csv')"
   ]
  },
  {
   "cell_type": "code",
   "execution_count": 3,
   "metadata": {},
   "outputs": [
    {
     "name": "stdout",
     "output_type": "stream",
     "text": [
      "<class 'pandas.core.frame.DataFrame'>\n",
      "RangeIndex: 607346 entries, 0 to 607345\n",
      "Data columns (total 38 columns):\n",
      " #   Column                 Non-Null Count   Dtype  \n",
      "---  ------                 --------------   -----  \n",
      " 0   YEAR                   607346 non-null  int64  \n",
      " 1   QUARTER                607346 non-null  int64  \n",
      " 2   MONTH                  607346 non-null  int64  \n",
      " 3   DAY_OF_MONTH           607346 non-null  int64  \n",
      " 4   DAY_OF_WEEK            607346 non-null  int64  \n",
      " 5   FL_DATE                607346 non-null  object \n",
      " 6   OP_UNIQUE_CARRIER      607346 non-null  object \n",
      " 7   OP_CARRIER_AIRLINE_ID  607346 non-null  int64  \n",
      " 8   OP_CARRIER             607346 non-null  object \n",
      " 9   TAIL_NUM               606648 non-null  object \n",
      " 10  OP_CARRIER_FL_NUM      607346 non-null  int64  \n",
      " 11  ORIGIN_AIRPORT_ID      607346 non-null  int64  \n",
      " 12  ORIGIN_AIRPORT_SEQ_ID  607346 non-null  int64  \n",
      " 13  ORIGIN_CITY_MARKET_ID  607346 non-null  int64  \n",
      " 14  ORIGIN                 607346 non-null  object \n",
      " 15  ORIGIN_CITY_NAME       607346 non-null  object \n",
      " 16  ORIGIN_STATE_ABR       607346 non-null  object \n",
      " 17  ORIGIN_STATE_FIPS      607346 non-null  int64  \n",
      " 18  ORIGIN_STATE_NM        607346 non-null  object \n",
      " 19  DEST_AIRPORT_ID        607346 non-null  int64  \n",
      " 20  DEST_AIRPORT_SEQ_ID    607346 non-null  int64  \n",
      " 21  DEST_CITY_MARKET_ID    607346 non-null  int64  \n",
      " 22  DEST                   607346 non-null  object \n",
      " 23  DEST_CITY_NAME         607346 non-null  object \n",
      " 24  DEST_STATE_ABR         607346 non-null  object \n",
      " 25  DEST_STATE_FIPS        607346 non-null  int64  \n",
      " 26  DEST_STATE_NM          607346 non-null  object \n",
      " 27  DEST_WAC               607346 non-null  int64  \n",
      " 28  CRS_DEP_TIME           607346 non-null  int64  \n",
      " 29  DEP_TIME               600682 non-null  float64\n",
      " 30  DEP_DELAY              600647 non-null  float64\n",
      " 31  DEP_DELAY_NEW          600647 non-null  float64\n",
      " 32  DEP_DEL15              600647 non-null  float64\n",
      " 33  DEP_DELAY_GROUP        600647 non-null  float64\n",
      " 34  DEP_TIME_BLK           607346 non-null  object \n",
      " 35  TAXI_OUT               600524 non-null  float64\n",
      " 36  WHEELS_OFF             600524 non-null  float64\n",
      " 37  Unnamed: 37            0 non-null       float64\n",
      "dtypes: float64(8), int64(17), object(13)\n",
      "memory usage: 176.1+ MB\n"
     ]
    }
   ],
   "source": [
    "df.info()"
   ]
  },
  {
   "cell_type": "code",
   "execution_count": 4,
   "metadata": {},
   "outputs": [
    {
     "data": {
      "text/html": [
       "<div>\n",
       "<style scoped>\n",
       "    .dataframe tbody tr th:only-of-type {\n",
       "        vertical-align: middle;\n",
       "    }\n",
       "\n",
       "    .dataframe tbody tr th {\n",
       "        vertical-align: top;\n",
       "    }\n",
       "\n",
       "    .dataframe thead th {\n",
       "        text-align: right;\n",
       "    }\n",
       "</style>\n",
       "<table border=\"1\" class=\"dataframe\">\n",
       "  <thead>\n",
       "    <tr style=\"text-align: right;\">\n",
       "      <th></th>\n",
       "      <th>YEAR</th>\n",
       "      <th>QUARTER</th>\n",
       "      <th>MONTH</th>\n",
       "      <th>DAY_OF_MONTH</th>\n",
       "      <th>DAY_OF_WEEK</th>\n",
       "      <th>FL_DATE</th>\n",
       "      <th>OP_UNIQUE_CARRIER</th>\n",
       "      <th>OP_CARRIER_AIRLINE_ID</th>\n",
       "      <th>OP_CARRIER</th>\n",
       "      <th>TAIL_NUM</th>\n",
       "      <th>...</th>\n",
       "      <th>CRS_DEP_TIME</th>\n",
       "      <th>DEP_TIME</th>\n",
       "      <th>DEP_DELAY</th>\n",
       "      <th>DEP_DELAY_NEW</th>\n",
       "      <th>DEP_DEL15</th>\n",
       "      <th>DEP_DELAY_GROUP</th>\n",
       "      <th>DEP_TIME_BLK</th>\n",
       "      <th>TAXI_OUT</th>\n",
       "      <th>WHEELS_OFF</th>\n",
       "      <th>Unnamed: 37</th>\n",
       "    </tr>\n",
       "  </thead>\n",
       "  <tbody>\n",
       "    <tr>\n",
       "      <th>0</th>\n",
       "      <td>2020</td>\n",
       "      <td>1</td>\n",
       "      <td>1</td>\n",
       "      <td>1</td>\n",
       "      <td>3</td>\n",
       "      <td>2020-01-01</td>\n",
       "      <td>WN</td>\n",
       "      <td>19393</td>\n",
       "      <td>WN</td>\n",
       "      <td>N951WN</td>\n",
       "      <td>...</td>\n",
       "      <td>1810</td>\n",
       "      <td>1851.0</td>\n",
       "      <td>41.0</td>\n",
       "      <td>41.0</td>\n",
       "      <td>1.0</td>\n",
       "      <td>2.0</td>\n",
       "      <td>1800-1859</td>\n",
       "      <td>44.0</td>\n",
       "      <td>1935.0</td>\n",
       "      <td>NaN</td>\n",
       "    </tr>\n",
       "    <tr>\n",
       "      <th>1</th>\n",
       "      <td>2020</td>\n",
       "      <td>1</td>\n",
       "      <td>1</td>\n",
       "      <td>1</td>\n",
       "      <td>3</td>\n",
       "      <td>2020-01-01</td>\n",
       "      <td>WN</td>\n",
       "      <td>19393</td>\n",
       "      <td>WN</td>\n",
       "      <td>N467WN</td>\n",
       "      <td>...</td>\n",
       "      <td>1150</td>\n",
       "      <td>1146.0</td>\n",
       "      <td>-4.0</td>\n",
       "      <td>0.0</td>\n",
       "      <td>0.0</td>\n",
       "      <td>-1.0</td>\n",
       "      <td>1100-1159</td>\n",
       "      <td>13.0</td>\n",
       "      <td>1159.0</td>\n",
       "      <td>NaN</td>\n",
       "    </tr>\n",
       "    <tr>\n",
       "      <th>2</th>\n",
       "      <td>2020</td>\n",
       "      <td>1</td>\n",
       "      <td>1</td>\n",
       "      <td>1</td>\n",
       "      <td>3</td>\n",
       "      <td>2020-01-01</td>\n",
       "      <td>WN</td>\n",
       "      <td>19393</td>\n",
       "      <td>WN</td>\n",
       "      <td>N7885A</td>\n",
       "      <td>...</td>\n",
       "      <td>2020</td>\n",
       "      <td>2016.0</td>\n",
       "      <td>-4.0</td>\n",
       "      <td>0.0</td>\n",
       "      <td>0.0</td>\n",
       "      <td>-1.0</td>\n",
       "      <td>2000-2059</td>\n",
       "      <td>8.0</td>\n",
       "      <td>2024.0</td>\n",
       "      <td>NaN</td>\n",
       "    </tr>\n",
       "    <tr>\n",
       "      <th>3</th>\n",
       "      <td>2020</td>\n",
       "      <td>1</td>\n",
       "      <td>1</td>\n",
       "      <td>1</td>\n",
       "      <td>3</td>\n",
       "      <td>2020-01-01</td>\n",
       "      <td>WN</td>\n",
       "      <td>19393</td>\n",
       "      <td>WN</td>\n",
       "      <td>N551WN</td>\n",
       "      <td>...</td>\n",
       "      <td>1340</td>\n",
       "      <td>1350.0</td>\n",
       "      <td>10.0</td>\n",
       "      <td>10.0</td>\n",
       "      <td>0.0</td>\n",
       "      <td>0.0</td>\n",
       "      <td>1300-1359</td>\n",
       "      <td>10.0</td>\n",
       "      <td>1400.0</td>\n",
       "      <td>NaN</td>\n",
       "    </tr>\n",
       "    <tr>\n",
       "      <th>4</th>\n",
       "      <td>2020</td>\n",
       "      <td>1</td>\n",
       "      <td>1</td>\n",
       "      <td>1</td>\n",
       "      <td>3</td>\n",
       "      <td>2020-01-01</td>\n",
       "      <td>WN</td>\n",
       "      <td>19393</td>\n",
       "      <td>WN</td>\n",
       "      <td>N968WN</td>\n",
       "      <td>...</td>\n",
       "      <td>915</td>\n",
       "      <td>916.0</td>\n",
       "      <td>1.0</td>\n",
       "      <td>1.0</td>\n",
       "      <td>0.0</td>\n",
       "      <td>0.0</td>\n",
       "      <td>0900-0959</td>\n",
       "      <td>6.0</td>\n",
       "      <td>922.0</td>\n",
       "      <td>NaN</td>\n",
       "    </tr>\n",
       "  </tbody>\n",
       "</table>\n",
       "<p>5 rows × 38 columns</p>\n",
       "</div>"
      ],
      "text/plain": [
       "   YEAR  QUARTER  MONTH  DAY_OF_MONTH  DAY_OF_WEEK     FL_DATE  \\\n",
       "0  2020        1      1             1            3  2020-01-01   \n",
       "1  2020        1      1             1            3  2020-01-01   \n",
       "2  2020        1      1             1            3  2020-01-01   \n",
       "3  2020        1      1             1            3  2020-01-01   \n",
       "4  2020        1      1             1            3  2020-01-01   \n",
       "\n",
       "  OP_UNIQUE_CARRIER  OP_CARRIER_AIRLINE_ID OP_CARRIER TAIL_NUM  ...  \\\n",
       "0                WN                  19393         WN   N951WN  ...   \n",
       "1                WN                  19393         WN   N467WN  ...   \n",
       "2                WN                  19393         WN   N7885A  ...   \n",
       "3                WN                  19393         WN   N551WN  ...   \n",
       "4                WN                  19393         WN   N968WN  ...   \n",
       "\n",
       "   CRS_DEP_TIME  DEP_TIME  DEP_DELAY  DEP_DELAY_NEW DEP_DEL15 DEP_DELAY_GROUP  \\\n",
       "0          1810    1851.0       41.0           41.0       1.0             2.0   \n",
       "1          1150    1146.0       -4.0            0.0       0.0            -1.0   \n",
       "2          2020    2016.0       -4.0            0.0       0.0            -1.0   \n",
       "3          1340    1350.0       10.0           10.0       0.0             0.0   \n",
       "4           915     916.0        1.0            1.0       0.0             0.0   \n",
       "\n",
       "  DEP_TIME_BLK  TAXI_OUT WHEELS_OFF  Unnamed: 37  \n",
       "0    1800-1859      44.0     1935.0          NaN  \n",
       "1    1100-1159      13.0     1159.0          NaN  \n",
       "2    2000-2059       8.0     2024.0          NaN  \n",
       "3    1300-1359      10.0     1400.0          NaN  \n",
       "4    0900-0959       6.0      922.0          NaN  \n",
       "\n",
       "[5 rows x 38 columns]"
      ]
     },
     "execution_count": 4,
     "metadata": {},
     "output_type": "execute_result"
    }
   ],
   "source": [
    "df.head()"
   ]
  },
  {
   "cell_type": "code",
   "execution_count": 5,
   "metadata": {},
   "outputs": [
    {
     "data": {
      "text/plain": [
       "176.08004760742188"
      ]
     },
     "execution_count": 5,
     "metadata": {},
     "output_type": "execute_result"
    }
   ],
   "source": [
    "df.memory_usage().sum() / (1024 ** 2)"
   ]
  },
  {
   "cell_type": "code",
   "execution_count": 6,
   "metadata": {},
   "outputs": [],
   "source": [
    "celsius = np.random.rand(1000, 1000)"
   ]
  },
  {
   "cell_type": "code",
   "execution_count": 7,
   "metadata": {},
   "outputs": [
    {
     "data": {
      "text/plain": [
       "array([[0.8218417 , 0.46873945, 0.5164466 , ..., 0.74618296, 0.34510967,\n",
       "        0.65692463],\n",
       "       [0.945834  , 0.48057701, 0.54548152, ..., 0.0689557 , 0.12938433,\n",
       "        0.25761851],\n",
       "       [0.46879176, 0.06588557, 0.89647648, ..., 0.84712116, 0.8743944 ,\n",
       "        0.51592643],\n",
       "       ...,\n",
       "       [0.14269983, 0.60451097, 0.43414542, ..., 0.44518526, 0.46215587,\n",
       "        0.33331249],\n",
       "       [0.00459644, 0.85779986, 0.28066126, ..., 0.07300285, 0.1970744 ,\n",
       "        0.8437099 ],\n",
       "       [0.66897764, 0.96386313, 0.28092108, ..., 0.92076278, 0.14165136,\n",
       "        0.556019  ]])"
      ]
     },
     "execution_count": 7,
     "metadata": {},
     "output_type": "execute_result"
    }
   ],
   "source": [
    "celsius"
   ]
  },
  {
   "cell_type": "code",
   "execution_count": 8,
   "metadata": {},
   "outputs": [],
   "source": [
    "def memory_footprint():\n",
    "    return psutil.Process(os.getpid()).memory_info().rss / 1024**2"
   ]
  },
  {
   "cell_type": "code",
   "execution_count": 9,
   "metadata": {},
   "outputs": [
    {
     "name": "stdout",
     "output_type": "stream",
     "text": [
      "7.62939453125\n",
      "0.0\n"
     ]
    }
   ],
   "source": [
    "# Print the size in MB of the celsius array\n",
    "print(celsius.nbytes / (1024 ** 2))\n",
    "\n",
    "# Call memory_footprint(): before\n",
    "before = memory_footprint()\n",
    "\n",
    "# Convert celsius by multiplying by 9/5 and adding 32: fahrenheit\n",
    "fahrenheit = celsius * 9/5 +32\n",
    "\n",
    "# Call memory_footprint(): after\n",
    "after = memory_footprint()\n",
    "\n",
    "# Print the difference between after and before\n",
    "print(after - before)"
   ]
  },
  {
   "cell_type": "code",
   "execution_count": 10,
   "metadata": {},
   "outputs": [],
   "source": [
    "# Create empty list: dfs\n",
    "dfs = []\n",
    "\n",
    "# Loop over 'WDI.csv'\n",
    "for chunk in pd.read_csv('./WDI_csv/WDIData.csv', chunksize=1000):\n",
    "    # Create the first Series\n",
    "    contains_urban = chunk['Indicator Name'].str.contains('Urban')\n",
    "    # Create the second Series\n",
    "    is_AUS = chunk['Country Code']=='AUS'\n",
    "\n",
    "    # Create the filtered chunk: filtered\n",
    "    filtered = chunk.loc[contains_urban & is_AUS]\n",
    "\n",
    "    # Append the filtered chunk to the list dfs\n",
    "    dfs.append(filtered)"
   ]
  },
  {
   "cell_type": "code",
   "execution_count": 11,
   "metadata": {},
   "outputs": [
    {
     "name": "stdout",
     "output_type": "stream",
     "text": [
      "378\n",
      "      Country Name Country Code  \\\n",
      "82966    Australia          AUS   \n",
      "82967    Australia          AUS   \n",
      "82968    Australia          AUS   \n",
      "82969    Australia          AUS   \n",
      "82970    Australia          AUS   \n",
      "82971    Australia          AUS   \n",
      "82972    Australia          AUS   \n",
      "\n",
      "                                          Indicator Name     Indicator Code  \\\n",
      "82966                           Urban land area (sq. km)  AG.LND.TOTL.UR.K2   \n",
      "82967  Urban land area where elevation is below 5 met...  AG.LND.EL5M.UR.ZS   \n",
      "82968  Urban land area where elevation is below 5 met...  AG.LND.EL5M.UR.K2   \n",
      "82969                                   Urban population        SP.URB.TOTL   \n",
      "82970           Urban population (% of total population)  SP.URB.TOTL.IN.ZS   \n",
      "82971                 Urban population growth (annual %)        SP.URB.GROW   \n",
      "82972  Urban population living in areas where elevati...  EN.POP.EL5M.UR.ZS   \n",
      "\n",
      "              1960          1961          1962          1963          1964  \\\n",
      "82966          NaN           NaN           NaN           NaN           NaN   \n",
      "82967          NaN           NaN           NaN           NaN           NaN   \n",
      "82968          NaN           NaN           NaN           NaN           NaN   \n",
      "82969  8378309.000  8.589875e+06  8.832932e+06  9.034955e+06  9.245383e+06   \n",
      "82970       81.529  8.194100e+01  8.222800e+01  8.251100e+01  8.279200e+01   \n",
      "82971          NaN  2.493808e+00  2.790283e+00  2.261393e+00  2.302335e+00   \n",
      "82972          NaN           NaN           NaN           NaN           NaN   \n",
      "\n",
      "               1965  ...          2011          2012          2013  \\\n",
      "82966           NaN  ...           NaN           NaN           NaN   \n",
      "82967           NaN  ...           NaN           NaN           NaN   \n",
      "82968           NaN  ...           NaN           NaN           NaN   \n",
      "82969  9.459784e+06  ...  1.905604e+07  1.941483e+07  1.977501e+07   \n",
      "82970  8.306800e+01  ...  8.530000e+01  8.540200e+01  8.550200e+01   \n",
      "82971  2.292526e+00  ...  1.527957e+00  1.865330e+00  1.838176e+00   \n",
      "82972           NaN  ...           NaN           NaN           NaN   \n",
      "\n",
      "               2014          2015          2016          2017          2018  \\\n",
      "82966           NaN           NaN           NaN           NaN           NaN   \n",
      "82967           NaN           NaN           NaN           NaN           NaN   \n",
      "82968           NaN           NaN           NaN           NaN           NaN   \n",
      "82969  2.009566e+07  2.041055e+07  2.075580e+07  2.113398e+07  2.148811e+07   \n",
      "82970  8.560200e+01  8.570100e+01  8.580000e+01  8.590400e+01  8.601200e+01   \n",
      "82971  1.608455e+00  1.554801e+00  1.677390e+00  1.805664e+00  1.661749e+00   \n",
      "82972           NaN           NaN           NaN           NaN           NaN   \n",
      "\n",
      "               2019  Unnamed: 64  \n",
      "82966           NaN          NaN  \n",
      "82967           NaN          NaN  \n",
      "82968           NaN          NaN  \n",
      "82969  2.184476e+07          NaN  \n",
      "82970  8.612400e+01          NaN  \n",
      "82971  1.646113e+00          NaN  \n",
      "82972           NaN          NaN  \n",
      "\n",
      "[7 rows x 65 columns]\n"
     ]
    }
   ],
   "source": [
    "# Print length of list dfs\n",
    "print(len(dfs))\n",
    "\n",
    "# Apply pd.concat to dfs: df\n",
    "df = pd.concat(dfs)\n",
    "\n",
    "# Print length of DataFrame df\n",
    "print(df)\n"
   ]
  },
  {
   "cell_type": "code",
   "execution_count": 13,
   "metadata": {},
   "outputs": [],
   "source": [
    "# Define function with single input called df: pct_delayed\n",
    "def pct_delayed(df):\n",
    "    # Compute number of delayed flights: n_delayed\n",
    "    n_delayed = (df['DEP_DELAY'] > 0).sum()\n",
    "    # Return percentage of delayed flights\n",
    "    return 100  * n_delayed / len(df)"
   ]
  },
  {
   "cell_type": "code",
   "execution_count": 14,
   "metadata": {},
   "outputs": [],
   "source": [
    "# Define the generator: dataframes\n",
    "dataframes = (pd.read_csv(file) for file in ['960906061_T_ONTIME_REPORTING.csv'])\n",
    "\n",
    "# Create the list comprehension: monthly_delayed\n",
    "monthly_delayed = [pct_delayed(df) for df in dataframes]\n",
    "\n",
    "# Create the plot\n",
    "# x = range(1,13)\n",
    "# plt.plot(x, monthly_delayed, marker='o', linewidth=0)\n",
    "# plt.ylabel('% Delayed')\n",
    "# plt.xlabel('Month - 2016')\n",
    "# plt.xlim((1,12))\n",
    "# plt.ylim((0,100))\n",
    "# plt.show()"
   ]
  },
  {
   "cell_type": "code",
   "execution_count": 15,
   "metadata": {},
   "outputs": [],
   "source": [
    "# Define count_flights\n",
    "@delayed\n",
    "def count_flights(df):\n",
    "    return len(df)\n",
    "\n",
    "# Define count_delayed\n",
    "@delayed\n",
    "def count_delayed(df):\n",
    "    return (df['DEP_DELAY']>0).sum()\n",
    "\n",
    "# Define pct_delayed\n",
    "@delayed\n",
    "def pct_delayed(n_delayed, n_flights):\n",
    "    return 100 * sum(n_delayed) / sum(n_flights)"
   ]
  },
  {
   "cell_type": "code",
   "execution_count": 16,
   "metadata": {},
   "outputs": [],
   "source": [
    "@delayed\n",
    "def read_one(filename):\n",
    "    return pd.read_csv(filename)"
   ]
  },
  {
   "cell_type": "code",
   "execution_count": 17,
   "metadata": {},
   "outputs": [
    {
     "name": "stdout",
     "output_type": "stream",
     "text": [
      "27.57801977785315\n"
     ]
    }
   ],
   "source": [
    "n_delayed = []\n",
    "n_flights = []\n",
    "# Loop over the provided filenames list and call read_one: df\n",
    "for file in ['960906061_T_ONTIME_REPORTING.csv']:\n",
    "    df = read_one(file)\n",
    "\n",
    "    # Append to n_delayed and n_flights\n",
    "    n_delayed.append(count_delayed(df))\n",
    "    n_flights.append(count_flights(df))\n",
    "\n",
    "# Call pct_delayed with n_delayed and n_flights: result\n",
    "result = pct_delayed(n_delayed, n_flights)\n",
    "\n",
    "# Print the output of result.compute()\n",
    "print(result.compute())"
   ]
  },
  {
   "cell_type": "code",
   "execution_count": null,
   "metadata": {},
   "outputs": [],
   "source": []
  },
  {
   "cell_type": "code",
   "execution_count": null,
   "metadata": {},
   "outputs": [],
   "source": []
  },
  {
   "cell_type": "code",
   "execution_count": null,
   "metadata": {},
   "outputs": [],
   "source": []
  },
  {
   "cell_type": "code",
   "execution_count": null,
   "metadata": {},
   "outputs": [],
   "source": []
  },
  {
   "cell_type": "code",
   "execution_count": null,
   "metadata": {},
   "outputs": [],
   "source": []
  },
  {
   "cell_type": "code",
   "execution_count": null,
   "metadata": {},
   "outputs": [],
   "source": []
  },
  {
   "cell_type": "code",
   "execution_count": null,
   "metadata": {},
   "outputs": [],
   "source": []
  },
  {
   "cell_type": "code",
   "execution_count": null,
   "metadata": {},
   "outputs": [],
   "source": []
  },
  {
   "cell_type": "code",
   "execution_count": null,
   "metadata": {},
   "outputs": [],
   "source": []
  },
  {
   "cell_type": "code",
   "execution_count": null,
   "metadata": {},
   "outputs": [],
   "source": []
  },
  {
   "cell_type": "code",
   "execution_count": null,
   "metadata": {},
   "outputs": [],
   "source": []
  }
 ],
 "metadata": {
  "kernelspec": {
   "display_name": "Python 3",
   "language": "python",
   "name": "python3"
  },
  "language_info": {
   "codemirror_mode": {
    "name": "ipython",
    "version": 3
   },
   "file_extension": ".py",
   "mimetype": "text/x-python",
   "name": "python",
   "nbconvert_exporter": "python",
   "pygments_lexer": "ipython3",
   "version": "3.7.4"
  }
 },
 "nbformat": 4,
 "nbformat_minor": 2
}
